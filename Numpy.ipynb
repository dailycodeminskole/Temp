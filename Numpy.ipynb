{
 "cells": [
  {
   "cell_type": "markdown",
   "id": "1b487014",
   "metadata": {},
   "source": [
    "# NUMPY"
   ]
  },
  {
   "cell_type": "markdown",
   "id": "f7ad7606",
   "metadata": {},
   "source": [
    "# >>>>>>>>>>>>>>>>>>>>>DAY 01"
   ]
  },
  {
   "cell_type": "markdown",
   "id": "9c03b443",
   "metadata": {},
   "source": [
    " ## Syllabus"
   ]
  },
  {
   "cell_type": "code",
   "execution_count": 7,
   "id": "03dc7d38",
   "metadata": {},
   "outputs": [],
   "source": [
    "# Introduction To Numpy\n",
    "# Creating Multi-Dimensional Numpy Arrays\n",
    "# Arange Function\n",
    "# Zeros, Ones and Eye functions\n",
    "# Reshape Function\n",
    "# Linspace\n",
    "# Resize Function\n",
    "# Random.rand\n",
    "# Random.randn\n",
    "# Random.randint\n",
    "# Indexing & Slicing\n",
    "# Broadcasting\n",
    "# How To Create A Copy Dataset\n",
    "# DataFrame Introduction\n",
    "# Creating Matrix"
   ]
  },
  {
   "cell_type": "code",
   "execution_count": 16,
   "id": "e6c6407c",
   "metadata": {},
   "outputs": [],
   "source": [
    "# List vs array"
   ]
  },
  {
   "cell_type": "code",
   "execution_count": 17,
   "id": "042559da",
   "metadata": {},
   "outputs": [],
   "source": [
    "a1 = [1,2,3,4,5,6,7,8,9,10]"
   ]
  },
  {
   "cell_type": "code",
   "execution_count": 25,
   "id": "0c27ba9c",
   "metadata": {},
   "outputs": [
    {
     "name": "stdout",
     "output_type": "stream",
     "text": [
      "[1, 2, 3, 4, 5, 6, 7, 8, 9, 10, 1, 2, 3, 4, 5, 6, 7, 8, 9, 10]\n"
     ]
    }
   ],
   "source": [
    "print(2*a1)"
   ]
  },
  {
   "cell_type": "markdown",
   "id": "86b8d19f",
   "metadata": {},
   "source": [
    "# for doing elemnt wise operation "
   ]
  },
  {
   "cell_type": "code",
   "execution_count": 18,
   "id": "9b2f5f69",
   "metadata": {},
   "outputs": [
    {
     "name": "stdout",
     "output_type": "stream",
     "text": [
      "2\n",
      "4\n",
      "6\n",
      "8\n",
      "10\n",
      "12\n",
      "14\n",
      "16\n",
      "18\n",
      "20\n"
     ]
    }
   ],
   "source": [
    "for i in a1:\n",
    "    print(2*i)"
   ]
  },
  {
   "cell_type": "code",
   "execution_count": 23,
   "id": "3dbbfce9",
   "metadata": {},
   "outputs": [
    {
     "name": "stdout",
     "output_type": "stream",
     "text": [
      "[2, 4, 6, 8, 10, 12, 14, 16, 18, 20]\n"
     ]
    }
   ],
   "source": [
    "print([i*2 for i in a1])"
   ]
  },
  {
   "cell_type": "code",
   "execution_count": 24,
   "id": "1f7b814c",
   "metadata": {},
   "outputs": [],
   "source": [
    "arr1 = np.array(a1)"
   ]
  },
  {
   "cell_type": "code",
   "execution_count": 26,
   "id": "a8d0362d",
   "metadata": {},
   "outputs": [
    {
     "name": "stdout",
     "output_type": "stream",
     "text": [
      "[ 2  4  6  8 10 12 14 16 18 20]\n"
     ]
    }
   ],
   "source": [
    "print(2*arr1)"
   ]
  },
  {
   "cell_type": "markdown",
   "id": "e24f725b",
   "metadata": {},
   "source": [
    "# for doing foaster operations"
   ]
  },
  {
   "cell_type": "code",
   "execution_count": 33,
   "id": "e5aae52b",
   "metadata": {},
   "outputs": [],
   "source": [
    "i = range(10000)\n"
   ]
  },
  {
   "cell_type": "code",
   "execution_count": 34,
   "id": "79d05575",
   "metadata": {},
   "outputs": [
    {
     "name": "stdout",
     "output_type": "stream",
     "text": [
      "583 ns ± 14.9 ns per loop (mean ± std. dev. of 7 runs, 1,000,000 loops each)\n"
     ]
    }
   ],
   "source": [
    "%timeit [i*2 for i in a1]"
   ]
  },
  {
   "cell_type": "code",
   "execution_count": 35,
   "id": "64b652c2",
   "metadata": {},
   "outputs": [],
   "source": [
    "i =  np.arange(1000)"
   ]
  },
  {
   "cell_type": "code",
   "execution_count": 36,
   "id": "55b64632",
   "metadata": {},
   "outputs": [
    {
     "name": "stdout",
     "output_type": "stream",
     "text": [
      "2.02 µs ± 60.6 ns per loop (mean ± std. dev. of 7 runs, 100,000 loops each)\n"
     ]
    }
   ],
   "source": [
    "%timeit (i*2)"
   ]
  },
  {
   "cell_type": "markdown",
   "id": "a7705488",
   "metadata": {},
   "source": [
    "# IMP Attributes"
   ]
  },
  {
   "cell_type": "code",
   "execution_count": 42,
   "id": "c0d3d542",
   "metadata": {},
   "outputs": [
    {
     "name": "stdout",
     "output_type": "stream",
     "text": [
      "[ 1  2  3  4  5  6  7  8  9 10]\n"
     ]
    }
   ],
   "source": [
    "arr2 = np.array(a1)\n",
    "print(arr2)"
   ]
  },
  {
   "cell_type": "code",
   "execution_count": 44,
   "id": "bd190c6f",
   "metadata": {},
   "outputs": [
    {
     "name": "stdout",
     "output_type": "stream",
     "text": [
      "1\n"
     ]
    }
   ],
   "source": [
    "print(arr2.ndim)"
   ]
  },
  {
   "cell_type": "code",
   "execution_count": 45,
   "id": "12f230ec",
   "metadata": {},
   "outputs": [
    {
     "name": "stdout",
     "output_type": "stream",
     "text": [
      "(10,)\n"
     ]
    }
   ],
   "source": [
    "print(arr2.shape)"
   ]
  },
  {
   "cell_type": "code",
   "execution_count": 46,
   "id": "10a28ed0",
   "metadata": {},
   "outputs": [
    {
     "name": "stdout",
     "output_type": "stream",
     "text": [
      "10\n"
     ]
    }
   ],
   "source": [
    "print(arr2.size)"
   ]
  },
  {
   "cell_type": "code",
   "execution_count": 47,
   "id": "08addeec",
   "metadata": {},
   "outputs": [
    {
     "name": "stdout",
     "output_type": "stream",
     "text": [
      "int32\n"
     ]
    }
   ],
   "source": [
    "print(arr2.dtype)"
   ]
  },
  {
   "cell_type": "code",
   "execution_count": 48,
   "id": "47b27f6f",
   "metadata": {},
   "outputs": [
    {
     "name": "stdout",
     "output_type": "stream",
     "text": [
      "4\n"
     ]
    }
   ],
   "source": [
    "print(arr2.itemsize) #32/8 = 4"
   ]
  },
  {
   "cell_type": "markdown",
   "id": "6c6c732e",
   "metadata": {},
   "source": [
    "# Array Creation "
   ]
  },
  {
   "cell_type": "code",
   "execution_count": 50,
   "id": "c70bdcb0",
   "metadata": {},
   "outputs": [
    {
     "name": "stdout",
     "output_type": "stream",
     "text": [
      "[ 0  1  2  3  4  5  6  7  8  9 10 11 12 13 14]\n"
     ]
    }
   ],
   "source": [
    "print(np.arange(15))"
   ]
  },
  {
   "cell_type": "code",
   "execution_count": 51,
   "id": "9cd2318c",
   "metadata": {},
   "outputs": [
    {
     "name": "stdout",
     "output_type": "stream",
     "text": [
      "[15 16 17 18 19 20 21 22 23 24 25 26 27 28 29 30 31 32 33 34 35 36 37 38\n",
      " 39 40 41 42 43 44 45 46 47 48 49]\n"
     ]
    }
   ],
   "source": [
    "print(np.arange(15,50)) # range"
   ]
  },
  {
   "cell_type": "code",
   "execution_count": 52,
   "id": "44ab4335",
   "metadata": {},
   "outputs": [
    {
     "name": "stdout",
     "output_type": "stream",
     "text": [
      "[15 25 35 45]\n"
     ]
    }
   ],
   "source": [
    "print(np.arange(15,50,10)) #step size"
   ]
  },
  {
   "cell_type": "code",
   "execution_count": 54,
   "id": "6999ace1",
   "metadata": {},
   "outputs": [
    {
     "name": "stdout",
     "output_type": "stream",
     "text": [
      "[ 1.          1.47368421  1.94736842  2.42105263  2.89473684  3.36842105\n",
      "  3.84210526  4.31578947  4.78947368  5.26315789  5.73684211  6.21052632\n",
      "  6.68421053  7.15789474  7.63157895  8.10526316  8.57894737  9.05263158\n",
      "  9.52631579 10.        ]\n"
     ]
    }
   ],
   "source": [
    "print(np.linspace(1,10,20)) #lin space"
   ]
  },
  {
   "cell_type": "markdown",
   "id": "43ef4e86",
   "metadata": {},
   "source": [
    "# Data Types in NUMPY"
   ]
  },
  {
   "cell_type": "code",
   "execution_count": 234,
   "id": "b096ebea",
   "metadata": {},
   "outputs": [],
   "source": [
    "#  converting to homogenous data type in an array"
   ]
  },
  {
   "cell_type": "code",
   "execution_count": 57,
   "id": "3857ca4c",
   "metadata": {},
   "outputs": [
    {
     "name": "stdout",
     "output_type": "stream",
     "text": [
      "[1, 2, 3, 4, 5, 6, 7, 8, 9, 10]\n",
      "[1.1, 2, 3, 4, 5, 6, 7, 8, 9, 10]\n"
     ]
    }
   ],
   "source": [
    "arr2 = [1,2,3,4,5,6,7,8,9,10]\n",
    "print(arr2)\n",
    "arr3 = [1.1,2,3,4,5,6,7,8,9,10]\n",
    "print(arr3)"
   ]
  },
  {
   "cell_type": "code",
   "execution_count": 62,
   "id": "ce169b5a",
   "metadata": {},
   "outputs": [
    {
     "name": "stdout",
     "output_type": "stream",
     "text": [
      "[[ 1  2  3  4  5  6  7  8  9 10]]\n",
      "[[ 1.1  2.   3.   4.   5.   6.   7.   8.   9.  10. ]]\n"
     ]
    }
   ],
   "source": [
    "print(np.array([arr2]))\n",
    "print(np.array([arr3])) # every element is converted into float to maintain homogeniety"
   ]
  },
  {
   "cell_type": "code",
   "execution_count": 64,
   "id": "4501fc2a",
   "metadata": {},
   "outputs": [
    {
     "name": "stdout",
     "output_type": "stream",
     "text": [
      "[['1' '2' '3' '4' '5' '6' '7' '8' '9' '10']]\n"
     ]
    }
   ],
   "source": [
    "arr4 = [1,2,3,4,5,6,7,8,9,'10']\n",
    "print(np.array([arr4]))"
   ]
  },
  {
   "cell_type": "markdown",
   "id": "cbe3612a",
   "metadata": {},
   "source": [
    "# 2D Array"
   ]
  },
  {
   "cell_type": "code",
   "execution_count": 66,
   "id": "7c3588ef",
   "metadata": {},
   "outputs": [
    {
     "name": "stdout",
     "output_type": "stream",
     "text": [
      "[[1, 1, 1], [2, 2, 2]]\n"
     ]
    }
   ],
   "source": [
    "m = ([[1,1,1],[2,2,2]])\n",
    "print(m)"
   ]
  },
  {
   "cell_type": "code",
   "execution_count": 68,
   "id": "80604b8d",
   "metadata": {},
   "outputs": [
    {
     "name": "stdout",
     "output_type": "stream",
     "text": [
      "[[1 1 1]\n",
      " [2 2 2]]\n",
      "2\n",
      "6\n",
      "(2, 3)\n"
     ]
    }
   ],
   "source": [
    "m1 = np.array(m)\n",
    "print(m1)\n",
    "print(m1.ndim)\n",
    "print(m1.size)\n",
    "print(m1.shape)\n"
   ]
  },
  {
   "cell_type": "code",
   "execution_count": 69,
   "id": "0ea97d83",
   "metadata": {},
   "outputs": [
    {
     "data": {
      "text/plain": [
       "array([[1],\n",
       "       [1],\n",
       "       [1],\n",
       "       [2],\n",
       "       [2],\n",
       "       [2]])"
      ]
     },
     "execution_count": 69,
     "metadata": {},
     "output_type": "execute_result"
    }
   ],
   "source": [
    "m1.reshape(6,1) #column vecort"
   ]
  },
  {
   "cell_type": "code",
   "execution_count": 70,
   "id": "a5f3e487",
   "metadata": {},
   "outputs": [
    {
     "data": {
      "text/plain": [
       "array([[1, 1, 1, 2, 2, 2]])"
      ]
     },
     "execution_count": 70,
     "metadata": {},
     "output_type": "execute_result"
    }
   ],
   "source": [
    "m1.reshape(1,6) # row vector"
   ]
  },
  {
   "cell_type": "code",
   "execution_count": 71,
   "id": "d72f4bdf",
   "metadata": {},
   "outputs": [],
   "source": [
    "# Easy way of creating 2d array  using reshape"
   ]
  },
  {
   "cell_type": "code",
   "execution_count": 72,
   "id": "5fdf45bb",
   "metadata": {},
   "outputs": [
    {
     "name": "stdout",
     "output_type": "stream",
     "text": [
      "[ 0  1  2  3  4  5  6  7  8  9 10 11 12 13 14]\n"
     ]
    }
   ],
   "source": [
    "m3 = np.arange(15)\n",
    "print(m3)"
   ]
  },
  {
   "cell_type": "code",
   "execution_count": 73,
   "id": "16a79c8d",
   "metadata": {},
   "outputs": [
    {
     "name": "stdout",
     "output_type": "stream",
     "text": [
      "[[ 0  1  2  3  4]\n",
      " [ 5  6  7  8  9]\n",
      " [10 11 12 13 14]]\n"
     ]
    }
   ],
   "source": [
    "print(m3.reshape(3,5))"
   ]
  },
  {
   "cell_type": "code",
   "execution_count": 74,
   "id": "61f4eae4",
   "metadata": {},
   "outputs": [
    {
     "name": "stdout",
     "output_type": "stream",
     "text": [
      "[[ 0  1  2]\n",
      " [ 3  4  5]\n",
      " [ 6  7  8]\n",
      " [ 9 10 11]\n",
      " [12 13 14]]\n"
     ]
    }
   ],
   "source": [
    "print(m3.reshape(5,3))"
   ]
  },
  {
   "cell_type": "code",
   "execution_count": 75,
   "id": "8e6b1c5e",
   "metadata": {},
   "outputs": [],
   "source": [
    "# flatten 2d array"
   ]
  },
  {
   "cell_type": "code",
   "execution_count": 77,
   "id": "b161b80d",
   "metadata": {},
   "outputs": [
    {
     "name": "stdout",
     "output_type": "stream",
     "text": [
      "[ 0  1  2  3  4  5  6  7  8  9 10 11 12 13 14]\n"
     ]
    }
   ],
   "source": [
    "print(m3.flatten())"
   ]
  },
  {
   "cell_type": "code",
   "execution_count": 78,
   "id": "77c536d2",
   "metadata": {},
   "outputs": [
    {
     "name": "stdout",
     "output_type": "stream",
     "text": [
      "[[ 0  1  2]\n",
      " [ 3  4  5]\n",
      " [ 6  7  8]\n",
      " [ 9 10 11]\n",
      " [12 13 14]]\n"
     ]
    }
   ],
   "source": [
    "print(m3.reshape(5,3))"
   ]
  },
  {
   "cell_type": "code",
   "execution_count": 82,
   "id": "3ea424f5",
   "metadata": {},
   "outputs": [
    {
     "name": "stdout",
     "output_type": "stream",
     "text": [
      "[[ 0  1  2]\n",
      " [ 3  4  5]\n",
      " [ 6  7  8]\n",
      " [ 9 10 11]\n",
      " [12 13 14]]\n"
     ]
    }
   ],
   "source": [
    "print(m3.reshape(5,-5)) # -5 will be replaced by 3 "
   ]
  },
  {
   "cell_type": "markdown",
   "id": "2e5269c4",
   "metadata": {},
   "source": [
    "# Initial Placeholders"
   ]
  },
  {
   "cell_type": "code",
   "execution_count": 85,
   "id": "805307b0",
   "metadata": {},
   "outputs": [
    {
     "name": "stdout",
     "output_type": "stream",
     "text": [
      "[0. 0. 0. 0. 0.]\n"
     ]
    }
   ],
   "source": [
    "print(np.zeros(5))"
   ]
  },
  {
   "cell_type": "code",
   "execution_count": 86,
   "id": "e3d6cbe9",
   "metadata": {},
   "outputs": [
    {
     "name": "stdout",
     "output_type": "stream",
     "text": [
      "[[0. 0. 0.]\n",
      " [0. 0. 0.]\n",
      " [0. 0. 0.]\n",
      " [0. 0. 0.]]\n"
     ]
    }
   ],
   "source": [
    "print(np.zeros([4,3])) #2d array"
   ]
  },
  {
   "cell_type": "code",
   "execution_count": 87,
   "id": "62895c6c",
   "metadata": {},
   "outputs": [
    {
     "name": "stdout",
     "output_type": "stream",
     "text": [
      "[1. 1. 1. 1. 1.]\n"
     ]
    }
   ],
   "source": [
    "print(np.ones(5))"
   ]
  },
  {
   "cell_type": "code",
   "execution_count": 88,
   "id": "0a5e45a3",
   "metadata": {},
   "outputs": [
    {
     "name": "stdout",
     "output_type": "stream",
     "text": [
      "[[1. 1. 1.]\n",
      " [1. 1. 1.]\n",
      " [1. 1. 1.]\n",
      " [1. 1. 1.]\n",
      " [1. 1. 1.]\n",
      " [1. 1. 1.]]\n"
     ]
    }
   ],
   "source": [
    "print(np.ones([6,3]))"
   ]
  },
  {
   "cell_type": "code",
   "execution_count": 89,
   "id": "70840f2d",
   "metadata": {},
   "outputs": [
    {
     "name": "stdout",
     "output_type": "stream",
     "text": [
      "[[1. 0. 0. 0.]\n",
      " [0. 1. 0. 0.]\n",
      " [0. 0. 1. 0.]\n",
      " [0. 0. 0. 1.]]\n"
     ]
    }
   ],
   "source": [
    "print(np.eye(4))"
   ]
  },
  {
   "cell_type": "code",
   "execution_count": 90,
   "id": "9982f83b",
   "metadata": {},
   "outputs": [
    {
     "name": "stdout",
     "output_type": "stream",
     "text": [
      "[[5 0 0]\n",
      " [0 6 0]\n",
      " [0 0 7]]\n"
     ]
    }
   ],
   "source": [
    "print(np.diag([5,6,7]))"
   ]
  },
  {
   "cell_type": "code",
   "execution_count": 91,
   "id": "38089dec",
   "metadata": {},
   "outputs": [
    {
     "name": "stdout",
     "output_type": "stream",
     "text": [
      "[[1. 0. 0. 0. 0.]\n",
      " [0. 1. 0. 0. 0.]\n",
      " [0. 0. 1. 0. 0.]\n",
      " [0. 0. 0. 1. 0.]\n",
      " [0. 0. 0. 0. 1.]]\n"
     ]
    }
   ],
   "source": [
    "print(np.identity(5))"
   ]
  },
  {
   "cell_type": "markdown",
   "id": "83cb6e24",
   "metadata": {},
   "source": [
    "# Indexing and slicing "
   ]
  },
  {
   "cell_type": "code",
   "execution_count": 114,
   "id": "25119604",
   "metadata": {},
   "outputs": [
    {
     "name": "stdout",
     "output_type": "stream",
     "text": [
      "[ 0  1  2  3  4  5  6  7  8  9 10 11 12 13 14]\n"
     ]
    }
   ],
   "source": [
    "m5 = np.arange(15)\n",
    "print(m5)"
   ]
  },
  {
   "cell_type": "code",
   "execution_count": 115,
   "id": "8c7b0401",
   "metadata": {},
   "outputs": [
    {
     "name": "stdout",
     "output_type": "stream",
     "text": [
      "2\n"
     ]
    }
   ],
   "source": [
    "print(m5[2])"
   ]
  },
  {
   "cell_type": "code",
   "execution_count": 116,
   "id": "d1fff29d",
   "metadata": {},
   "outputs": [
    {
     "name": "stdout",
     "output_type": "stream",
     "text": [
      "11\n"
     ]
    }
   ],
   "source": [
    "print(m5[11])"
   ]
  },
  {
   "cell_type": "code",
   "execution_count": 117,
   "id": "a59ff393",
   "metadata": {},
   "outputs": [
    {
     "name": "stdout",
     "output_type": "stream",
     "text": [
      "[0 2 4]\n"
     ]
    }
   ],
   "source": [
    "print(m5[[0,2,4]])"
   ]
  },
  {
   "cell_type": "code",
   "execution_count": 118,
   "id": "2d0e1d44",
   "metadata": {},
   "outputs": [
    {
     "name": "stdout",
     "output_type": "stream",
     "text": [
      "[[ 0  1  2]\n",
      " [ 3  4  5]\n",
      " [ 6  7  8]\n",
      " [ 9 10 11]\n",
      " [12 13 14]]\n"
     ]
    }
   ],
   "source": [
    "m5 = np.arange(15).reshape([5,3])\n",
    "print(m5)"
   ]
  },
  {
   "cell_type": "code",
   "execution_count": 100,
   "id": "0c8bcefc",
   "metadata": {},
   "outputs": [
    {
     "name": "stdout",
     "output_type": "stream",
     "text": [
      "1\n"
     ]
    }
   ],
   "source": [
    "print(m5[0][1])"
   ]
  },
  {
   "cell_type": "code",
   "execution_count": 101,
   "id": "bba2fb10",
   "metadata": {},
   "outputs": [
    {
     "name": "stdout",
     "output_type": "stream",
     "text": [
      "8\n"
     ]
    }
   ],
   "source": [
    "print(m5[2][2]) "
   ]
  },
  {
   "cell_type": "code",
   "execution_count": 103,
   "id": "83a264a0",
   "metadata": {},
   "outputs": [
    {
     "name": "stdout",
     "output_type": "stream",
     "text": [
      "8\n"
     ]
    }
   ],
   "source": [
    "print(m5[2,2]) # easier notation to access the element  "
   ]
  },
  {
   "cell_type": "code",
   "execution_count": 124,
   "id": "4381b36f",
   "metadata": {},
   "outputs": [
    {
     "name": "stdout",
     "output_type": "stream",
     "text": [
      "[7 8 2]\n"
     ]
    }
   ],
   "source": [
    "print(m5[[2,2,0],[1,2,2]]) # accessing multiple iteams in a 2D aray"
   ]
  },
  {
   "cell_type": "markdown",
   "id": "ba7f74c0",
   "metadata": {},
   "source": [
    "# Slicing"
   ]
  },
  {
   "cell_type": "code",
   "execution_count": 126,
   "id": "84a03af4",
   "metadata": {},
   "outputs": [],
   "source": [
    "arr1 = np.arange(12).reshape(3,4)"
   ]
  },
  {
   "cell_type": "code",
   "execution_count": 127,
   "id": "5b6afe4c",
   "metadata": {},
   "outputs": [
    {
     "name": "stdout",
     "output_type": "stream",
     "text": [
      "[[ 0  1  2  3]\n",
      " [ 4  5  6  7]\n",
      " [ 8  9 10 11]]\n"
     ]
    }
   ],
   "source": [
    "print(arr1)"
   ]
  },
  {
   "cell_type": "code",
   "execution_count": 128,
   "id": "f41da217",
   "metadata": {},
   "outputs": [
    {
     "name": "stdout",
     "output_type": "stream",
     "text": [
      "0\n"
     ]
    }
   ],
   "source": [
    "print(arr1[0 ,0])"
   ]
  },
  {
   "cell_type": "code",
   "execution_count": 129,
   "id": "6f2412f7",
   "metadata": {},
   "outputs": [
    {
     "name": "stdout",
     "output_type": "stream",
     "text": [
      "[0 1]\n"
     ]
    }
   ],
   "source": [
    "print(arr1[0 ,0:2])"
   ]
  },
  {
   "cell_type": "code",
   "execution_count": 130,
   "id": "e39dfd04",
   "metadata": {},
   "outputs": [
    {
     "name": "stdout",
     "output_type": "stream",
     "text": [
      "[ 8  9 10 11]\n"
     ]
    }
   ],
   "source": [
    "print(arr1[2 ,0:])"
   ]
  },
  {
   "cell_type": "code",
   "execution_count": 137,
   "id": "6f97705c",
   "metadata": {},
   "outputs": [
    {
     "name": "stdout",
     "output_type": "stream",
     "text": [
      "[[ 2  3]\n",
      " [ 6  7]\n",
      " [10 11]]\n"
     ]
    }
   ],
   "source": [
    "print(arr1[: ,2:])"
   ]
  },
  {
   "cell_type": "code",
   "execution_count": 138,
   "id": "02f2a1bb",
   "metadata": {},
   "outputs": [],
   "source": [
    "# reversing array"
   ]
  },
  {
   "cell_type": "code",
   "execution_count": 144,
   "id": "186aa5f0",
   "metadata": {},
   "outputs": [
    {
     "name": "stdout",
     "output_type": "stream",
     "text": [
      "[1 1 1 1 4 3 2]\n"
     ]
    }
   ],
   "source": [
    "x = np.array([1,1,1,1,1,1,1])\n",
    "y = np.array([2,3,4])\n",
    "x[4:] = y[::-1]\n",
    "print(x)"
   ]
  },
  {
   "cell_type": "markdown",
   "id": "266bbf00",
   "metadata": {},
   "source": [
    "# Indexing with Boolean Arrays"
   ]
  },
  {
   "cell_type": "code",
   "execution_count": 145,
   "id": "da365bd7",
   "metadata": {},
   "outputs": [],
   "source": [
    "# Masking\n",
    "# fancy indexing\n"
   ]
  },
  {
   "cell_type": "code",
   "execution_count": 146,
   "id": "749ae094",
   "metadata": {},
   "outputs": [
    {
     "name": "stdout",
     "output_type": "stream",
     "text": [
      "[[ 0  1  2  3]\n",
      " [ 4  5  6  7]\n",
      " [ 8  9 10 11]]\n"
     ]
    }
   ],
   "source": [
    "arr1 = np.arange(12).reshape(3,4)\n",
    "print(arr1)"
   ]
  },
  {
   "cell_type": "code",
   "execution_count": 147,
   "id": "d881aecb",
   "metadata": {},
   "outputs": [
    {
     "name": "stdout",
     "output_type": "stream",
     "text": [
      "[[False False False False]\n",
      " [False False  True  True]\n",
      " [ True  True  True  True]]\n"
     ]
    }
   ],
   "source": [
    "print(arr1 > 5)"
   ]
  },
  {
   "cell_type": "code",
   "execution_count": 148,
   "id": "5e2387b4",
   "metadata": {},
   "outputs": [
    {
     "name": "stdout",
     "output_type": "stream",
     "text": [
      "[ 6  7  8  9 10 11]\n"
     ]
    }
   ],
   "source": [
    "print(arr1[arr1 > 5]) #filtering the values using masks"
   ]
  },
  {
   "cell_type": "code",
   "execution_count": 149,
   "id": "b8ec762d",
   "metadata": {},
   "outputs": [
    {
     "name": "stdout",
     "output_type": "stream",
     "text": [
      "[ 0  2  4  6  8 10]\n"
     ]
    }
   ],
   "source": [
    "print(arr1[arr1 % 2== 0]) "
   ]
  },
  {
   "cell_type": "code",
   "execution_count": 150,
   "id": "87355b9f",
   "metadata": {},
   "outputs": [
    {
     "name": "stdout",
     "output_type": "stream",
     "text": [
      "[0 3 6 9]\n"
     ]
    }
   ],
   "source": [
    "print(arr1[arr1 % 3== 0])"
   ]
  },
  {
   "cell_type": "code",
   "execution_count": 155,
   "id": "b6101c66",
   "metadata": {},
   "outputs": [
    {
     "name": "stdout",
     "output_type": "stream",
     "text": [
      "[ 0  2  3  4  6  8  9 10]\n"
     ]
    }
   ],
   "source": [
    "print(arr1[(arr1 % 2== 0) | (arr1 % 3== 0)]) #multiple conditions"
   ]
  },
  {
   "cell_type": "code",
   "execution_count": 156,
   "id": "76fb1df9",
   "metadata": {},
   "outputs": [
    {
     "name": "stdout",
     "output_type": "stream",
     "text": [
      "[[ 0  1  2  3]\n",
      " [ 4  5  6  7]\n",
      " [ 8  9 10 11]]\n"
     ]
    }
   ],
   "source": [
    "arr1 = np.arange(12).reshape(3,4)\n",
    "print(arr1)"
   ]
  },
  {
   "cell_type": "code",
   "execution_count": 157,
   "id": "10d40a34",
   "metadata": {},
   "outputs": [],
   "source": [
    "ans  = (arr1 % 2 == 0)"
   ]
  },
  {
   "cell_type": "code",
   "execution_count": 158,
   "id": "98f8cbbb",
   "metadata": {},
   "outputs": [
    {
     "name": "stdout",
     "output_type": "stream",
     "text": [
      "[[100   1 100   3]\n",
      " [100   5 100   7]\n",
      " [100   9 100  11]]\n"
     ]
    }
   ],
   "source": [
    "arr1[ans] = 100\n",
    "print(arr1)"
   ]
  },
  {
   "cell_type": "markdown",
   "id": "bc8da705",
   "metadata": {},
   "source": [
    "# >>>>>>>>>>>>>>>>>>>>>DAY 02"
   ]
  },
  {
   "cell_type": "markdown",
   "id": "368a7403",
   "metadata": {},
   "source": [
    "# Universal Functions"
   ]
  },
  {
   "cell_type": "code",
   "execution_count": 168,
   "id": "6cc421df",
   "metadata": {},
   "outputs": [],
   "source": [
    " a = np.array([11,22,33,44,55])\n",
    " b = np.array([1,2,3,4,5])    "
   ]
  },
  {
   "cell_type": "code",
   "execution_count": 169,
   "id": "8214bbfb",
   "metadata": {},
   "outputs": [
    {
     "name": "stdout",
     "output_type": "stream",
     "text": [
      "[12 24 36 48 60]\n"
     ]
    }
   ],
   "source": [
    "print(a+b) #np.add(a,b)"
   ]
  },
  {
   "cell_type": "code",
   "execution_count": 163,
   "id": "06c9363f",
   "metadata": {},
   "outputs": [
    {
     "name": "stdout",
     "output_type": "stream",
     "text": [
      "[10 20 30 40 50]\n"
     ]
    }
   ],
   "source": [
    "print(a-b)"
   ]
  },
  {
   "cell_type": "code",
   "execution_count": 164,
   "id": "a8d7d775",
   "metadata": {},
   "outputs": [
    {
     "name": "stdout",
     "output_type": "stream",
     "text": [
      "[ 11  44  99 176 275]\n"
     ]
    }
   ],
   "source": [
    "print(a*b)"
   ]
  },
  {
   "cell_type": "code",
   "execution_count": 165,
   "id": "012c91e5",
   "metadata": {},
   "outputs": [
    {
     "name": "stdout",
     "output_type": "stream",
     "text": [
      "[11. 11. 11. 11. 11.]\n"
     ]
    }
   ],
   "source": [
    "print(a/b)"
   ]
  },
  {
   "cell_type": "markdown",
   "id": "e92217bc",
   "metadata": {},
   "source": [
    "# Aggreagte Function"
   ]
  },
  {
   "cell_type": "code",
   "execution_count": 170,
   "id": "e537bb5f",
   "metadata": {},
   "outputs": [
    {
     "name": "stdout",
     "output_type": "stream",
     "text": [
      "165\n"
     ]
    }
   ],
   "source": [
    "print(np.sum(a))"
   ]
  },
  {
   "cell_type": "code",
   "execution_count": 171,
   "id": "8e733b59",
   "metadata": {},
   "outputs": [
    {
     "name": "stdout",
     "output_type": "stream",
     "text": [
      "15\n"
     ]
    }
   ],
   "source": [
    "print(np.sum(b))"
   ]
  },
  {
   "cell_type": "code",
   "execution_count": 175,
   "id": "d7029715",
   "metadata": {},
   "outputs": [],
   "source": [
    "arr5 = np.arange(10,60,2).reshape(5,5)"
   ]
  },
  {
   "cell_type": "code",
   "execution_count": 177,
   "id": "6dd93df6",
   "metadata": {},
   "outputs": [
    {
     "name": "stdout",
     "output_type": "stream",
     "text": [
      "[[10 12 14 16 18]\n",
      " [20 22 24 26 28]\n",
      " [30 32 34 36 38]\n",
      " [40 42 44 46 48]\n",
      " [50 52 54 56 58]]\n"
     ]
    }
   ],
   "source": [
    "print(arr5)"
   ]
  },
  {
   "cell_type": "code",
   "execution_count": 178,
   "id": "b5f52df6",
   "metadata": {},
   "outputs": [
    {
     "name": "stdout",
     "output_type": "stream",
     "text": [
      "[150 160 170 180 190]\n"
     ]
    }
   ],
   "source": [
    "print(np.sum(arr5 , axis=0))"
   ]
  },
  {
   "cell_type": "code",
   "execution_count": 179,
   "id": "8f30301a",
   "metadata": {},
   "outputs": [
    {
     "name": "stdout",
     "output_type": "stream",
     "text": [
      "[ 70 120 170 220 270]\n"
     ]
    }
   ],
   "source": [
    "print(np.sum(arr5 , axis=1))"
   ]
  },
  {
   "cell_type": "code",
   "execution_count": 181,
   "id": "8b6c1664",
   "metadata": {},
   "outputs": [
    {
     "name": "stdout",
     "output_type": "stream",
     "text": [
      "34.0\n"
     ]
    }
   ],
   "source": [
    "print(np.mean(arr5))"
   ]
  },
  {
   "cell_type": "code",
   "execution_count": 183,
   "id": "3080ff70",
   "metadata": {},
   "outputs": [
    {
     "name": "stdout",
     "output_type": "stream",
     "text": [
      "[30. 32. 34. 36. 38.]\n"
     ]
    }
   ],
   "source": [
    "print(np.mean(arr5 , axis=0))"
   ]
  },
  {
   "cell_type": "code",
   "execution_count": 184,
   "id": "f8165b8f",
   "metadata": {},
   "outputs": [
    {
     "name": "stdout",
     "output_type": "stream",
     "text": [
      "[14. 24. 34. 44. 54.]\n"
     ]
    }
   ],
   "source": [
    "print(np.mean(arr5 , axis=1))"
   ]
  },
  {
   "cell_type": "code",
   "execution_count": 186,
   "id": "98f07338",
   "metadata": {},
   "outputs": [
    {
     "name": "stdout",
     "output_type": "stream",
     "text": [
      "10\n"
     ]
    }
   ],
   "source": [
    "print(np.min(arr5)) "
   ]
  },
  {
   "cell_type": "code",
   "execution_count": 187,
   "id": "9e93acfb",
   "metadata": {},
   "outputs": [
    {
     "name": "stdout",
     "output_type": "stream",
     "text": [
      "[10 12 14 16 18]\n"
     ]
    }
   ],
   "source": [
    "print(np.min(arr5,axis=0)) "
   ]
  },
  {
   "cell_type": "code",
   "execution_count": 188,
   "id": "277e21a5",
   "metadata": {},
   "outputs": [
    {
     "name": "stdout",
     "output_type": "stream",
     "text": [
      "[10 20 30 40 50]\n"
     ]
    }
   ],
   "source": [
    "print(np.min(arr5,axis=1))"
   ]
  },
  {
   "cell_type": "markdown",
   "id": "658c33e0",
   "metadata": {},
   "source": [
    "# Logical Fun"
   ]
  },
  {
   "cell_type": "code",
   "execution_count": 192,
   "id": "d79c616f",
   "metadata": {},
   "outputs": [
    {
     "data": {
      "text/plain": [
       "True"
      ]
     },
     "execution_count": 192,
     "metadata": {},
     "output_type": "execute_result"
    }
   ],
   "source": [
    "# any = all elements have to be ZERO\n",
    "a = np.array([11,22,33,44,55])\n",
    "np.any(a)"
   ]
  },
  {
   "cell_type": "code",
   "execution_count": 190,
   "id": "3e2b3d08",
   "metadata": {},
   "outputs": [
    {
     "data": {
      "text/plain": [
       "True"
      ]
     },
     "execution_count": 190,
     "metadata": {},
     "output_type": "execute_result"
    }
   ],
   "source": [
    "a = np.array([11,22,33,44,55,0])\n",
    "np.any(a)"
   ]
  },
  {
   "cell_type": "code",
   "execution_count": 191,
   "id": "622e87fd",
   "metadata": {},
   "outputs": [
    {
     "data": {
      "text/plain": [
       "False"
      ]
     },
     "execution_count": 191,
     "metadata": {},
     "output_type": "execute_result"
    }
   ],
   "source": [
    "a = np.array([0,0,0,0,0])\n",
    "np.any(a)"
   ]
  },
  {
   "cell_type": "code",
   "execution_count": 193,
   "id": "e5543cb2",
   "metadata": {},
   "outputs": [],
   "source": [
    "a1 = np.array([77,8,88,99,6,5])\n",
    "a2 = np.array([66,8,88,99,6,5])"
   ]
  },
  {
   "cell_type": "code",
   "execution_count": 194,
   "id": "42270c0d",
   "metadata": {},
   "outputs": [
    {
     "name": "stdout",
     "output_type": "stream",
     "text": [
      "[ True False False False False False]\n"
     ]
    }
   ],
   "source": [
    "print(a1>a2)"
   ]
  },
  {
   "cell_type": "code",
   "execution_count": 195,
   "id": "ce56429c",
   "metadata": {},
   "outputs": [
    {
     "name": "stdout",
     "output_type": "stream",
     "text": [
      "True\n"
     ]
    }
   ],
   "source": [
    "print(np.any(a1>a2))"
   ]
  },
  {
   "cell_type": "code",
   "execution_count": 196,
   "id": "487b57cd",
   "metadata": {},
   "outputs": [
    {
     "name": "stdout",
     "output_type": "stream",
     "text": [
      "False\n"
     ]
    }
   ],
   "source": [
    "print(np.all(a1>a2))"
   ]
  },
  {
   "cell_type": "code",
   "execution_count": 197,
   "id": "26ddf0b5",
   "metadata": {},
   "outputs": [
    {
     "name": "stdout",
     "output_type": "stream",
     "text": [
      "False\n"
     ]
    }
   ],
   "source": [
    "print(np.all(a1<a2))"
   ]
  },
  {
   "cell_type": "code",
   "execution_count": 198,
   "id": "9d518b70",
   "metadata": {},
   "outputs": [
    {
     "data": {
      "text/plain": [
       "array([ 0, 11, 22, 33, 44, 55])"
      ]
     },
     "execution_count": 198,
     "metadata": {},
     "output_type": "execute_result"
    }
   ],
   "source": [
    "a = np.array([11,22,33,44,55,0])\n",
    "np.sort(a)"
   ]
  },
  {
   "cell_type": "code",
   "execution_count": 199,
   "id": "c495061b",
   "metadata": {},
   "outputs": [
    {
     "data": {
      "text/plain": [
       "array([5, 0, 1, 2, 3, 4], dtype=int64)"
      ]
     },
     "execution_count": 199,
     "metadata": {},
     "output_type": "execute_result"
    }
   ],
   "source": [
    "np.argsort(a) #index of sorted array"
   ]
  },
  {
   "cell_type": "code",
   "execution_count": 200,
   "id": "ed61b5ab",
   "metadata": {},
   "outputs": [],
   "source": [
    "# sorting in a 2d Array\n"
   ]
  },
  {
   "cell_type": "code",
   "execution_count": 207,
   "id": "0ef490ac",
   "metadata": {},
   "outputs": [],
   "source": [
    "a = np.array([[12,33,33,44,87,14],[12,44,55,77,44,11],[1,2,3,4,5,6]])"
   ]
  },
  {
   "cell_type": "code",
   "execution_count": 208,
   "id": "0387e038",
   "metadata": {},
   "outputs": [
    {
     "name": "stdout",
     "output_type": "stream",
     "text": [
      "[[12 33 33 44 87 14]\n",
      " [12 44 55 77 44 11]\n",
      " [ 1  2  3  4  5  6]]\n"
     ]
    }
   ],
   "source": [
    "print(a)"
   ]
  },
  {
   "cell_type": "code",
   "execution_count": 210,
   "id": "80356b03",
   "metadata": {},
   "outputs": [
    {
     "name": "stdout",
     "output_type": "stream",
     "text": [
      "[[12 14 33 33 44 87]\n",
      " [11 12 44 44 55 77]\n",
      " [ 1  2  3  4  5  6]]\n"
     ]
    }
   ],
   "source": [
    "print(np.sort(a)) #default sort is last axis , here is axis = 1"
   ]
  },
  {
   "cell_type": "markdown",
   "id": "d5aeb40d",
   "metadata": {},
   "source": [
    "# Broadcasting"
   ]
  },
  {
   "cell_type": "code",
   "execution_count": 211,
   "id": "7f323615",
   "metadata": {},
   "outputs": [],
   "source": [
    "x = np.array([10,20,30])\n",
    "y = np.array([[1],[2],[3],[4]])"
   ]
  },
  {
   "cell_type": "code",
   "execution_count": 214,
   "id": "40642340",
   "metadata": {},
   "outputs": [
    {
     "name": "stdout",
     "output_type": "stream",
     "text": [
      "[10 20 30]\n",
      "1\n",
      "(3,)\n"
     ]
    }
   ],
   "source": [
    "print(x)\n",
    "print(x.ndim)\n",
    "print(x.shape)"
   ]
  },
  {
   "cell_type": "code",
   "execution_count": 215,
   "id": "a5e4db0e",
   "metadata": {},
   "outputs": [
    {
     "name": "stdout",
     "output_type": "stream",
     "text": [
      "[[1]\n",
      " [2]\n",
      " [3]\n",
      " [4]]\n",
      "2\n",
      "(4, 1)\n"
     ]
    }
   ],
   "source": [
    "print(y)\n",
    "print(y.ndim)\n",
    "print(y.shape)"
   ]
  },
  {
   "cell_type": "code",
   "execution_count": 217,
   "id": "ff4e9e17",
   "metadata": {},
   "outputs": [
    {
     "name": "stdout",
     "output_type": "stream",
     "text": [
      "[[11 21 31]\n",
      " [12 22 32]\n",
      " [13 23 33]\n",
      " [14 24 34]]\n"
     ]
    }
   ],
   "source": [
    "print(x+y)"
   ]
  },
  {
   "cell_type": "markdown",
   "id": "8637d61c",
   "metadata": {},
   "source": [
    "# Splitting"
   ]
  },
  {
   "cell_type": "code",
   "execution_count": 220,
   "id": "5f3cd4c2",
   "metadata": {},
   "outputs": [
    {
     "name": "stdout",
     "output_type": "stream",
     "text": [
      "[0 1 2 3 4 5 6 7 8]\n"
     ]
    }
   ],
   "source": [
    "x = np.arange(9)\n",
    "print(x)"
   ]
  },
  {
   "cell_type": "code",
   "execution_count": 221,
   "id": "0ab56894",
   "metadata": {},
   "outputs": [
    {
     "name": "stdout",
     "output_type": "stream",
     "text": [
      "[array([0, 1, 2]), array([3, 4, 5]), array([6, 7, 8])]\n"
     ]
    }
   ],
   "source": [
    "print(np.split(x,3))"
   ]
  },
  {
   "cell_type": "code",
   "execution_count": 223,
   "id": "15fc3d4e",
   "metadata": {},
   "outputs": [],
   "source": [
    "# print(np.split(x,5)) # Error"
   ]
  },
  {
   "cell_type": "code",
   "execution_count": 224,
   "id": "b754214e",
   "metadata": {},
   "outputs": [
    {
     "name": "stdout",
     "output_type": "stream",
     "text": [
      "[[ 0  1  2  3]\n",
      " [ 4  5  6  7]\n",
      " [ 8  9 10 11]\n",
      " [12 13 14 15]]\n"
     ]
    }
   ],
   "source": [
    "x = np.arange(16).reshape(4,4)\n",
    "print(x)"
   ]
  },
  {
   "cell_type": "code",
   "execution_count": 226,
   "id": "01135eda",
   "metadata": {},
   "outputs": [
    {
     "name": "stdout",
     "output_type": "stream",
     "text": [
      "[array([[0, 1, 2, 3]]), array([[4, 5, 6, 7]]), array([[ 8,  9, 10, 11]]), array([[12, 13, 14, 15]])]\n"
     ]
    }
   ],
   "source": [
    "print(np.split(x,4)) #default axis = 0"
   ]
  },
  {
   "cell_type": "code",
   "execution_count": 230,
   "id": "977ac6f2",
   "metadata": {},
   "outputs": [
    {
     "name": "stdout",
     "output_type": "stream",
     "text": [
      "[array([[0, 1, 2, 3]]), array([[4, 5, 6, 7]]), array([[ 8,  9, 10, 11]]), array([[12, 13, 14, 15]])]\n"
     ]
    }
   ],
   "source": [
    "print(np.vsplit(x,4))"
   ]
  },
  {
   "cell_type": "code",
   "execution_count": 227,
   "id": "ff3adc5c",
   "metadata": {},
   "outputs": [
    {
     "name": "stdout",
     "output_type": "stream",
     "text": [
      "[array([[ 0],\n",
      "       [ 4],\n",
      "       [ 8],\n",
      "       [12]]), array([[ 1],\n",
      "       [ 5],\n",
      "       [ 9],\n",
      "       [13]]), array([[ 2],\n",
      "       [ 6],\n",
      "       [10],\n",
      "       [14]]), array([[ 3],\n",
      "       [ 7],\n",
      "       [11],\n",
      "       [15]])]\n"
     ]
    }
   ],
   "source": [
    "print(np.split(x,4,axis=1)) "
   ]
  },
  {
   "cell_type": "code",
   "execution_count": 229,
   "id": "039b39cf",
   "metadata": {
    "scrolled": true
   },
   "outputs": [
    {
     "name": "stdout",
     "output_type": "stream",
     "text": [
      "[array([[ 0],\n",
      "       [ 4],\n",
      "       [ 8],\n",
      "       [12]]), array([[ 1],\n",
      "       [ 5],\n",
      "       [ 9],\n",
      "       [13]]), array([[ 2],\n",
      "       [ 6],\n",
      "       [10],\n",
      "       [14]]), array([[ 3],\n",
      "       [ 7],\n",
      "       [11],\n",
      "       [15]])]\n"
     ]
    }
   ],
   "source": [
    "print(np.hsplit(x ,4))"
   ]
  },
  {
   "cell_type": "code",
   "execution_count": 233,
   "id": "d07fe362",
   "metadata": {},
   "outputs": [],
   "source": [
    "# Merging of arrays"
   ]
  },
  {
   "cell_type": "markdown",
   "id": "c02c9096",
   "metadata": {},
   "source": [
    "# Copies and Views"
   ]
  },
  {
   "cell_type": "code",
   "execution_count": 231,
   "id": "15c2b7af",
   "metadata": {},
   "outputs": [
    {
     "name": "stdout",
     "output_type": "stream",
     "text": [
      "True\n",
      "False\n",
      "True\n",
      "False\n",
      "(3, 4)\n",
      "[[   0    1    2    3]\n",
      " [1234    5    6    7]\n",
      " [   8    9   10   11]]\n",
      "False\n"
     ]
    }
   ],
   "source": [
    "\n",
    "# No Copy at All\n",
    "a = np.array([[ 0,  1,  2,  3],\n",
    "              [ 4,  5,  6,  7],\n",
    "              [ 8,  9, 10, 11]])\n",
    "b = a            # no new object is created\n",
    "print(b is a)     # a and b are two names for the same ndarray object\n",
    "# View or Shallow Copy\n",
    "c = a.view()\n",
    "print(c is a)\n",
    "print(c.base is a  )          # c is a view of the data owned by a\n",
    "print(c.flags.owndata)\n",
    "c = c.reshape((2, 6))  # a's shape doesn't change\n",
    "print(a.shape)\n",
    "c[0, 4] = 1234         # a's data changes\n",
    "print(a)\n",
    "\n",
    "# Deep Copy\n",
    "d = a.copy()  # a new array object with new data is created\n",
    "print(d is a)\n"
   ]
  },
  {
   "cell_type": "markdown",
   "id": "fd13b39e",
   "metadata": {},
   "source": [
    "# Examples"
   ]
  },
  {
   "cell_type": "code",
   "execution_count": 263,
   "id": "d2060218",
   "metadata": {},
   "outputs": [],
   "source": [
    "import matplotlib.pyplot as plt"
   ]
  },
  {
   "cell_type": "code",
   "execution_count": 264,
   "id": "d0b0a92a",
   "metadata": {},
   "outputs": [],
   "source": [
    "img = np.array(plt.imread(r\"C:\\Users\\RAHUL\\Downloads\\in.jpg\"))"
   ]
  },
  {
   "cell_type": "code",
   "execution_count": 265,
   "id": "15b8e969",
   "metadata": {
    "scrolled": true
   },
   "outputs": [
    {
     "data": {
      "text/plain": [
       "<matplotlib.image.AxesImage at 0x29a4a1b4610>"
      ]
     },
     "execution_count": 265,
     "metadata": {},
     "output_type": "execute_result"
    },
    {
     "data": {
      "image/png": "[encoded data removed]",
      "text/plain": [
       "<Figure size 432x288 with 1 Axes>"
      ]
     },
     "metadata": {
      "needs_background": "light"
     },
     "output_type": "display_data"
    }
   ],
   "source": [
    "plt.imshow(img)"
   ]
  },
  {
   "cell_type": "code",
   "execution_count": 238,
   "id": "e348baf4",
   "metadata": {},
   "outputs": [
    {
     "name": "stdout",
     "output_type": "stream",
     "text": [
      "3\n"
     ]
    }
   ],
   "source": [
    "print(img.ndim)"
   ]
  },
  {
   "cell_type": "code",
   "execution_count": 239,
   "id": "73ea24bf",
   "metadata": {},
   "outputs": [
    {
     "name": "stdout",
     "output_type": "stream",
     "text": [
      "23040000\n"
     ]
    }
   ],
   "source": [
    "print(img.size)"
   ]
  },
  {
   "cell_type": "code",
   "execution_count": 266,
   "id": "15fdedfd",
   "metadata": {},
   "outputs": [
    {
     "name": "stdout",
     "output_type": "stream",
     "text": [
      "(2400, 3200, 3)\n"
     ]
    }
   ],
   "source": [
    "print(img.shape)"
   ]
  },
  {
   "cell_type": "code",
   "execution_count": 267,
   "id": "fdbccbe9",
   "metadata": {},
   "outputs": [
    {
     "data": {
      "text/plain": [
       "<matplotlib.image.AxesImage at 0x29a4aaf8370>"
      ]
     },
     "execution_count": 267,
     "metadata": {},
     "output_type": "execute_result"
    },
    {
     "data": {
      "image/png": "[encoded data removed]",
      "text/plain": [
       "<Figure size 432x288 with 1 Axes>"
      ]
     },
     "metadata": {
      "needs_background": "light"
     },
     "output_type": "display_data"
    }
   ],
   "source": [
    "plt.imshow(np.transpose(img,(1,0,2))) "
   ]
  },
  {
   "cell_type": "code",
   "execution_count": 268,
   "id": "0e975f27",
   "metadata": {},
   "outputs": [
    {
     "data": {
      "text/plain": [
       "<matplotlib.image.AxesImage at 0x29a4ab5ca60>"
      ]
     },
     "execution_count": 268,
     "metadata": {},
     "output_type": "execute_result"
    },
    {
     "data": {
      "image/png": "[encoded data removed]",
      "text/plain": [
       "<Figure size 432x288 with 1 Axes>"
      ]
     },
     "metadata": {
      "needs_background": "light"
     },
     "output_type": "display_data"
    }
   ],
   "source": [
    "plt.imshow(img[1000:2500,500:2100,:])"
   ]
  },
  {
   "cell_type": "code",
   "execution_count": 278,
   "id": "79587401",
   "metadata": {},
   "outputs": [],
   "source": [
    "img2 = np.array(plt.imread(r\"C:\\Users\\RAHUL\\Downloads\\python.png\"))"
   ]
  },
  {
   "cell_type": "code",
   "execution_count": 279,
   "id": "2cf0abd6",
   "metadata": {},
   "outputs": [],
   "source": [
    "img[ : , : ,(0,2)] = 0"
   ]
  },
  {
   "cell_type": "code",
   "execution_count": 280,
   "id": "950a3751",
   "metadata": {},
   "outputs": [
    {
     "data": {
      "text/plain": [
       "<matplotlib.image.AxesImage at 0x29a4a497fd0>"
      ]
     },
     "execution_count": 280,
     "metadata": {},
     "output_type": "execute_result"
    },
    {
     "data": {
      "image/png": "[encoded data removed]",
      "text/plain": [
       "<Figure size 432x288 with 1 Axes>"
      ]
     },
     "metadata": {
      "needs_background": "light"
     },
     "output_type": "display_data"
    }
   ],
   "source": [
    "plt.imshow(img)"
   ]
  },
  {
   "cell_type": "code",
   "execution_count": 281,
   "id": "7e02b01d",
   "metadata": {},
   "outputs": [],
   "source": [
    "img[ : , : ,(0,2)] = 0"
   ]
  },
  {
   "cell_type": "code",
   "execution_count": 277,
   "id": "b3d574a5",
   "metadata": {},
   "outputs": [
    {
     "data": {
      "text/plain": [
       "<matplotlib.image.AxesImage at 0x29a4a43d450>"
      ]
     },
     "execution_count": 277,
     "metadata": {},
     "output_type": "execute_result"
    },
    {
     "data": {
      "image/png": "[encoded data removed]",
      "text/plain": [
       "<Figure size 432x288 with 1 Axes>"
      ]
     },
     "metadata": {
      "needs_background": "light"
     },
     "output_type": "display_data"
    }
   ],
   "source": [
    "plt.imshow(img)"
   ]
  },
  {
   "cell_type": "code",
   "execution_count": null,
   "id": "3dc2d03e",
   "metadata": {},
   "outputs": [],
   "source": []
  },
  {
   "cell_type": "code",
   "execution_count": 254,
   "id": "032ffd6b",
   "metadata": {},
   "outputs": [
    {
     "data": {
      "text/plain": [
       "<matplotlib.image.AxesImage at 0x29a56456650>"
      ]
     },
     "execution_count": 254,
     "metadata": {},
     "output_type": "execute_result"
    },
    {
     "data": {
      "image/png": "[encoded data removed]",
      "text/plain": [
       "<Figure size 432x288 with 1 Axes>"
      ]
     },
     "metadata": {
      "needs_background": "light"
     },
     "output_type": "display_data"
    }
   ],
   "source": [
    "plt.imshow(img2)"
   ]
  },
  {
   "cell_type": "code",
   "execution_count": 261,
   "id": "e3b20076",
   "metadata": {},
   "outputs": [
    {
     "data": {
      "text/plain": [
       "<matplotlib.image.AxesImage at 0x29a4a986680>"
      ]
     },
     "execution_count": 261,
     "metadata": {},
     "output_type": "execute_result"
    },
    {
     "data": {
      "image/png": "[encoded data removed]",
      "text/plain": [
       "<Figure size 432x288 with 1 Axes>"
      ]
     },
     "metadata": {
      "needs_background": "light"
     },
     "output_type": "display_data"
    }
   ],
   "source": [
    "plt.imshow(img2[:150,180:250,:])"
   ]
  },
  {
   "cell_type": "code",
   "execution_count": null,
   "id": "1790f245",
   "metadata": {},
   "outputs": [],
   "source": []
  }
 ],
 "metadata": {
  "kernelspec": {
   "display_name": "Python 3 (ipykernel)",
   "language": "python",
   "name": "python3"
  },
  "language_info": {
   "codemirror_mode": {
    "name": "ipython",
    "version": 3
   },
   "file_extension": ".py",
   "mimetype": "text/x-python",
   "name": "python",
   "nbconvert_exporter": "python",
   "pygments_lexer": "ipython3",
   "version": "3.10.5"
  }
 },
 "nbformat": 4,
 "nbformat_minor": 5
}
