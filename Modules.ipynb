{
 "cells": [
  {
   "cell_type": "code",
   "execution_count": 31,
   "id": "ee814da8",
   "metadata": {},
   "outputs": [
    {
     "data": {
      "text/plain": [
       "'\\nprint(\"Welcome to the custom module , saved at the same location\")\\n\\ntest = \"Test String\"\\n\\ndef sum1(x,y):\\n    print(x+y)\\n\\nskills = [\\'a\\',\\'b\\',\\'c\\',\\'d\\',\\'e\\']\\ndef find_string(to_search,target):\\n\\n    for i , value in enumerate(to_search):\\n        if value == target:\\n            print(i)\\n        \\n# find_string(\\'b\\',skills)\\nfind_string(skills,\\'b\\')\\n\\n# print(skills.index(\\'b\\'))\\n\\n'"
      ]
     },
     "execution_count": 31,
     "metadata": {},
     "output_type": "execute_result"
    }
   ],
   "source": [
    "'''\n",
    "print(\"Welcome to the custom module , saved at the same location\")\n",
    "\n",
    "test = \"Test String\"\n",
    "\n",
    "def sum1(x,y):\n",
    "    print(x+y)\n",
    "\n",
    "skills = ['a','b','c','d','e']\n",
    "def find_string(to_search,target):\n",
    "\n",
    "    for i , value in enumerate(to_search):\n",
    "        if value == target:\n",
    "            print(i)\n",
    "        \n",
    "# find_string('b',skills)\n",
    "find_string(skills,'b')\n",
    "\n",
    "# print(skills.index('b'))\n",
    "\n",
    "'''"
   ]
  },
  {
   "cell_type": "code",
   "execution_count": 1,
   "id": "21476e1c",
   "metadata": {
    "scrolled": true
   },
   "outputs": [
    {
     "name": "stdout",
     "output_type": "stream",
     "text": [
      "Welcome to the custom module , saved at the same location\n",
      "1\n"
     ]
    }
   ],
   "source": [
    "import ZhakkasModule"
   ]
  },
  {
   "cell_type": "code",
   "execution_count": 2,
   "id": "014f3f52",
   "metadata": {},
   "outputs": [],
   "source": [
    "skills = ['java','python','js','ruby']"
   ]
  },
  {
   "cell_type": "code",
   "execution_count": 3,
   "id": "42d5e677",
   "metadata": {},
   "outputs": [
    {
     "name": "stdout",
     "output_type": "stream",
     "text": [
      "3\n"
     ]
    }
   ],
   "source": [
    "ans = ZhakkasModule.find_string(skills,'ruby')"
   ]
  },
  {
   "cell_type": "code",
   "execution_count": 4,
   "id": "e20001f7",
   "metadata": {},
   "outputs": [
    {
     "name": "stdout",
     "output_type": "stream",
     "text": [
      "None\n"
     ]
    }
   ],
   "source": [
    "print(ans)"
   ]
  },
  {
   "cell_type": "code",
   "execution_count": 5,
   "id": "668923ae",
   "metadata": {},
   "outputs": [
    {
     "name": "stdout",
     "output_type": "stream",
     "text": [
      "400\n"
     ]
    }
   ],
   "source": [
    "ans =  ZhakkasModule.sum1(100,300)"
   ]
  },
  {
   "cell_type": "markdown",
   "id": "93043219",
   "metadata": {},
   "source": [
    "# using  a short name alias"
   ]
  },
  {
   "cell_type": "code",
   "execution_count": 6,
   "id": "6860443a",
   "metadata": {},
   "outputs": [],
   "source": [
    "import ZhakkasModule as zm"
   ]
  },
  {
   "cell_type": "code",
   "execution_count": 7,
   "id": "78773e0a",
   "metadata": {},
   "outputs": [
    {
     "name": "stdout",
     "output_type": "stream",
     "text": [
      "3\n",
      "None\n"
     ]
    }
   ],
   "source": [
    "ans = zm.find_string(skills,'ruby')\n",
    "print(ans)"
   ]
  },
  {
   "cell_type": "markdown",
   "id": "ad289dae",
   "metadata": {},
   "source": [
    "# importing limited functions"
   ]
  },
  {
   "cell_type": "code",
   "execution_count": 8,
   "id": "8c6437de",
   "metadata": {},
   "outputs": [],
   "source": [
    "from ZhakkasModule import sum1"
   ]
  },
  {
   "cell_type": "code",
   "execution_count": 9,
   "id": "57d8fb0e",
   "metadata": {},
   "outputs": [
    {
     "name": "stdout",
     "output_type": "stream",
     "text": [
      "400\n"
     ]
    }
   ],
   "source": [
    "sum1(200,200)"
   ]
  },
  {
   "cell_type": "code",
   "execution_count": 10,
   "id": "4275a354",
   "metadata": {},
   "outputs": [
    {
     "name": "stdout",
     "output_type": "stream",
     "text": [
      "3\n",
      "None\n"
     ]
    }
   ],
   "source": [
    "ans = zm.find_string(skills,'ruby')\n",
    "print(ans)"
   ]
  },
  {
   "cell_type": "markdown",
   "id": "8afc8777",
   "metadata": {},
   "source": [
    "# importing everythin "
   ]
  },
  {
   "cell_type": "code",
   "execution_count": 11,
   "id": "695d3a6d",
   "metadata": {},
   "outputs": [],
   "source": [
    "from ZhakkasModule import *"
   ]
  },
  {
   "cell_type": "code",
   "execution_count": 12,
   "id": "8461e2a5",
   "metadata": {},
   "outputs": [],
   "source": [
    "# not recommended as difficult to track from where the function came from"
   ]
  },
  {
   "cell_type": "markdown",
   "id": "b9153eb1",
   "metadata": {},
   "source": [
    "# working of the import"
   ]
  },
  {
   "cell_type": "code",
   "execution_count": 13,
   "id": "4ae586e2",
   "metadata": {},
   "outputs": [],
   "source": [
    "import sys"
   ]
  },
  {
   "cell_type": "code",
   "execution_count": 14,
   "id": "331751f4",
   "metadata": {},
   "outputs": [
    {
     "name": "stdout",
     "output_type": "stream",
     "text": [
      "['C:\\\\Users\\\\RAHUL\\\\Documents\\\\OnePython\\\\0.SelfStudyDS', 'C:\\\\Python\\\\Python310\\\\python310.zip', 'C:\\\\Python\\\\Python310\\\\DLLs', 'C:\\\\Python\\\\Python310\\\\lib', 'C:\\\\Python\\\\Python310', '', 'C:\\\\Users\\\\RAHUL\\\\AppData\\\\Roaming\\\\Python\\\\Python310\\\\site-packages', 'C:\\\\Python\\\\Python310\\\\lib\\\\site-packages', 'C:\\\\Python\\\\Python310\\\\lib\\\\site-packages\\\\win32', 'C:\\\\Python\\\\Python310\\\\lib\\\\site-packages\\\\win32\\\\lib', 'C:\\\\Python\\\\Python310\\\\lib\\\\site-packages\\\\Pythonwin']\n"
     ]
    }
   ],
   "source": [
    "print(sys.path)"
   ]
  },
  {
   "cell_type": "code",
   "execution_count": 15,
   "id": "3e0a689a",
   "metadata": {},
   "outputs": [
    {
     "name": "stdout",
     "output_type": "stream",
     "text": [
      "C:\\Users\\RAHUL\\Documents\\OnePython\\0.SelfStudyDS\n",
      "C:\\Python\\Python310\\python310.zip\n",
      "C:\\Python\\Python310\\DLLs\n",
      "C:\\Python\\Python310\\lib\n",
      "C:\\Python\\Python310\n",
      "\n",
      "C:\\Users\\RAHUL\\AppData\\Roaming\\Python\\Python310\\site-packages\n",
      "C:\\Python\\Python310\\lib\\site-packages\n",
      "C:\\Python\\Python310\\lib\\site-packages\\win32\n",
      "C:\\Python\\Python310\\lib\\site-packages\\win32\\lib\n",
      "C:\\Python\\Python310\\lib\\site-packages\\Pythonwin\n"
     ]
    }
   ],
   "source": [
    "for i in sys.path:\n",
    "    print(i)"
   ]
  },
  {
   "cell_type": "code",
   "execution_count": 16,
   "id": "29c98219",
   "metadata": {},
   "outputs": [],
   "source": [
    "# we can append the path \n",
    "# we can add the path in env variables in the system settings"
   ]
  },
  {
   "cell_type": "markdown",
   "id": "c4ad3ceb",
   "metadata": {},
   "source": [
    "# imporint std libraries that is already available in python"
   ]
  },
  {
   "cell_type": "code",
   "execution_count": 17,
   "id": "85ad2830",
   "metadata": {},
   "outputs": [],
   "source": [
    "import random"
   ]
  },
  {
   "cell_type": "code",
   "execution_count": 18,
   "id": "60c1fc2b",
   "metadata": {},
   "outputs": [],
   "source": [
    "import math"
   ]
  },
  {
   "cell_type": "code",
   "execution_count": 19,
   "id": "2f541b07",
   "metadata": {},
   "outputs": [],
   "source": [
    "import datetime"
   ]
  },
  {
   "cell_type": "code",
   "execution_count": 20,
   "id": "3fe5e8a5",
   "metadata": {},
   "outputs": [],
   "source": [
    "import os"
   ]
  },
  {
   "cell_type": "code",
   "execution_count": 21,
   "id": "aaf90bec",
   "metadata": {},
   "outputs": [
    {
     "data": {
      "text/plain": [
       "'C:\\\\Users\\\\RAHUL\\\\Documents\\\\OnePython\\\\0.SelfStudyDS'"
      ]
     },
     "execution_count": 21,
     "metadata": {},
     "output_type": "execute_result"
    }
   ],
   "source": [
    "os.getcwd()"
   ]
  },
  {
   "cell_type": "code",
   "execution_count": 22,
   "id": "48fea0de",
   "metadata": {},
   "outputs": [
    {
     "data": {
      "text/plain": [
       "'C:\\\\Python\\\\Python310\\\\lib\\\\os.py'"
      ]
     },
     "execution_count": 22,
     "metadata": {},
     "output_type": "execute_result"
    }
   ],
   "source": [
    "# location of the module\n",
    "\n",
    "os.__file__"
   ]
  },
  {
   "cell_type": "markdown",
   "id": "7b399bae",
   "metadata": {},
   "source": [
    "# Random module"
   ]
  },
  {
   "cell_type": "code",
   "execution_count": 23,
   "id": "730ada6c",
   "metadata": {},
   "outputs": [],
   "source": [
    "# generate random or dummy values"
   ]
  },
  {
   "cell_type": "code",
   "execution_count": 24,
   "id": "9d671fb4",
   "metadata": {},
   "outputs": [],
   "source": [
    "import random"
   ]
  },
  {
   "cell_type": "code",
   "execution_count": 25,
   "id": "677d3088",
   "metadata": {},
   "outputs": [
    {
     "data": {
      "text/plain": [
       "0.7349482682430729"
      ]
     },
     "execution_count": 25,
     "metadata": {},
     "output_type": "execute_result"
    }
   ],
   "source": [
    " #values from 0-1 not including 1\n",
    "v = random.random()\n",
    "v"
   ]
  },
  {
   "cell_type": "code",
   "execution_count": 26,
   "id": "be828110",
   "metadata": {},
   "outputs": [
    {
     "data": {
      "text/plain": [
       "4.91055312681134"
      ]
     },
     "execution_count": 26,
     "metadata": {},
     "output_type": "execute_result"
    }
   ],
   "source": [
    "# random floating number\n",
    "v = random.uniform(1,10)\n",
    "v"
   ]
  },
  {
   "cell_type": "code",
   "execution_count": 27,
   "id": "c2c49c75",
   "metadata": {},
   "outputs": [
    {
     "data": {
      "text/plain": [
       "3"
      ]
     },
     "execution_count": 27,
     "metadata": {},
     "output_type": "execute_result"
    }
   ],
   "source": [
    "# random integers\n",
    "# both values included\n",
    "v = random.randint(1,10)\n",
    "v"
   ]
  },
  {
   "cell_type": "code",
   "execution_count": 28,
   "id": "2e2eabff",
   "metadata": {},
   "outputs": [
    {
     "data": {
      "text/plain": [
       "'i'"
      ]
     },
     "execution_count": 28,
     "metadata": {},
     "output_type": "execute_result"
    }
   ],
   "source": [
    "# random values from a list of values\n",
    "list = ['a','e','i','o','u']\n",
    "random.choice(list)"
   ]
  },
  {
   "cell_type": "code",
   "execution_count": 29,
   "id": "800ad81c",
   "metadata": {},
   "outputs": [
    {
     "data": {
      "text/plain": [
       "['i', 'u', 'u']"
      ]
     },
     "execution_count": 29,
     "metadata": {},
     "output_type": "execute_result"
    }
   ],
   "source": [
    "#multiple random values from a list of values\n",
    "list = ['a','e','i','o','u']\n",
    "random.choices(list,k=3)"
   ]
  },
  {
   "cell_type": "code",
   "execution_count": null,
   "id": "0dc8f373",
   "metadata": {},
   "outputs": [],
   "source": []
  }
 ],
 "metadata": {
  "kernelspec": {
   "display_name": "Python 3 (ipykernel)",
   "language": "python",
   "name": "python3"
  },
  "language_info": {
   "codemirror_mode": {
    "name": "ipython",
    "version": 3
   },
   "file_extension": ".py",
   "mimetype": "text/x-python",
   "name": "python",
   "nbconvert_exporter": "python",
   "pygments_lexer": "ipython3",
   "version": "3.10.5"
  }
 },
 "nbformat": 4,
 "nbformat_minor": 5
}
